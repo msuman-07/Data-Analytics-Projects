{
  "nbformat": 4,
  "nbformat_minor": 0,
  "metadata": {
    "colab": {
      "provenance": [],
      "authorship_tag": "ABX9TyO+boHrGHjgYYww+j4N3/7p",
      "include_colab_link": true
    },
    "kernelspec": {
      "name": "python3",
      "display_name": "Python 3"
    },
    "language_info": {
      "name": "python"
    }
  },
  "cells": [
    {
      "cell_type": "markdown",
      "metadata": {
        "id": "view-in-github",
        "colab_type": "text"
      },
      "source": [
        "<a href=\"https://colab.research.google.com/github/msuman-07/Data-Analytics-Projects/blob/main/Permutation%20and%20Combination.ipynb\" target=\"_parent\"><img src=\"https://colab.research.google.com/assets/colab-badge.svg\" alt=\"Open In Colab\"/></a>"
      ]
    },
    {
      "cell_type": "markdown",
      "source": [
        "Permutation with Length 2"
      ],
      "metadata": {
        "id": "04zm6W-u2Fim"
      }
    },
    {
      "cell_type": "code",
      "execution_count": 3,
      "metadata": {
        "colab": {
          "base_uri": "https://localhost:8080/"
        },
        "id": "dEmME1Cr1jCu",
        "outputId": "5b19d145-0cda-4ae7-86c1-576a6e6eed77"
      },
      "outputs": [
        {
          "output_type": "stream",
          "name": "stdout",
          "text": [
            "(1, 2)\n",
            "(1, 3)\n",
            "(2, 1)\n",
            "(2, 3)\n",
            "(3, 1)\n",
            "(3, 2)\n",
            "Permutation Count:  6\n"
          ]
        }
      ],
      "source": [
        "from itertools import permutations\n",
        "count=0\n",
        "data = [1, 2, 3]\n",
        "perm = permutations (data, 2)\n",
        "for i in list(perm):\n",
        "  print (i)\n",
        "  count+=1\n",
        "print(\"Permutation Count: \",count)"
      ]
    },
    {
      "cell_type": "code",
      "source": [
        "from itertools import combinations\n",
        "count=0\n",
        "data = [1, 2, 3]\n",
        "data2 = [2, 1, 3]\n",
        "perm = combinations (data, 2)\n",
        "for i in list(perm):\n",
        "  print (i)\n",
        "  count+=1\n",
        "print(\"Combination Count: \",count)"
      ],
      "metadata": {
        "colab": {
          "base_uri": "https://localhost:8080/"
        },
        "id": "SNmKnl2D2MaX",
        "outputId": "15ab8ad0-ff96-4b52-ff27-2254002952d8"
      },
      "execution_count": 4,
      "outputs": [
        {
          "output_type": "stream",
          "name": "stdout",
          "text": [
            "(1, 2)\n",
            "(1, 3)\n",
            "(2, 3)\n",
            "Combination Count:  3\n"
          ]
        }
      ]
    },
    {
      "cell_type": "code",
      "source": [
        "from itertools import combinations_with_replacement as cr\n",
        "count=0\n",
        "data = [1, 2, 3]\n",
        "data2 = [2, 1, 3]\n",
        "perm = cr(data, 2)\n",
        "for i in list(perm):\n",
        "  print (i)\n",
        "  count+=1\n",
        "print(\"Combination with Element Count: \", count)"
      ],
      "metadata": {
        "colab": {
          "base_uri": "https://localhost:8080/"
        },
        "id": "AKvNTAv66wx5",
        "outputId": "4dd00874-1935-45a9-aa62-529a2f878fb2"
      },
      "execution_count": 6,
      "outputs": [
        {
          "output_type": "stream",
          "name": "stdout",
          "text": [
            "(1, 1)\n",
            "(1, 2)\n",
            "(1, 3)\n",
            "(2, 2)\n",
            "(2, 3)\n",
            "(3, 3)\n",
            "Combination with Element Count:  6\n"
          ]
        }
      ]
    },
    {
      "cell_type": "markdown",
      "source": [],
      "metadata": {
        "id": "FAs4cWwn596r"
      }
    }
  ]
}